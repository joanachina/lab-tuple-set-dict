{
 "cells": [
  {
   "cell_type": "markdown",
   "metadata": {},
   "source": [
    "## Challenge 2: Sets\n",
    "\n",
    "There are a lot to learn about Python Sets and the information presented in the lesson is limited due to its length. To learn Python Sets in depth you are strongly encouraged to review the W3Schools tutorial on [Python Sets Examples and Methods](https://www.w3schools.com/python/python_sets.asp) before you work on this lab. Some difficult questions in this lab have their solutions in the W3Schools tutorial.\n",
    "\n",
    "#### First, import the Python `random` libary"
   ]
  },
  {
   "cell_type": "code",
   "execution_count": 225,
   "metadata": {},
   "outputs": [],
   "source": [
    "import random"
   ]
  },
  {
   "cell_type": "markdown",
   "metadata": {},
   "source": [
    "#### 1 - In the cell below, create a list named `sample_list_1` with 80 random values. \n",
    "\n",
    "Requirements:\n",
    "\n",
    "* Each value is an integer falling between 0 and 100.\n",
    "* Each value in the list is unique.\n",
    "\n",
    "Print `sample_list_1` to review its values\n",
    "\n",
    "*Hint: use `random.sample` ([reference](https://docs.python.org/3/library/random.html#random.sample)).*"
   ]
  },
  {
   "cell_type": "code",
   "execution_count": 226,
   "metadata": {},
   "outputs": [
    {
     "name": "stdout",
     "output_type": "stream",
     "text": [
      "[90, 99, 75, 14, 95, 25, 10, 66, 13, 23, 27, 38, 54, 22, 12, 50, 32, 11, 76, 17, 21, 62, 89, 80, 30, 19, 26, 37, 36, 47, 39, 92, 74, 49, 0, 56, 44, 65, 87, 85, 91, 46, 57, 35, 100, 98, 24, 6, 63, 8, 97, 83, 34, 1, 52, 31, 78, 81, 3, 51, 88, 4, 59, 42, 67, 43, 70, 2, 72, 7, 45, 53, 28, 96, 18, 60, 71, 16, 93, 79]\n"
     ]
    }
   ],
   "source": [
    "#random.sample(population, k, *, counts=None)\n",
    "sample_list_1 = random.sample(list(range(101)), k=80)\n",
    "print(sample_list_1)\n",
    "\n"
   ]
  },
  {
   "cell_type": "markdown",
   "metadata": {},
   "source": [
    "#### 2 - Convert `sample_list_1` to a set called `set1`. Print the length of the set. Is its length still 80?"
   ]
  },
  {
   "cell_type": "code",
   "execution_count": 227,
   "metadata": {},
   "outputs": [
    {
     "name": "stdout",
     "output_type": "stream",
     "text": [
      "{0, 1, 2, 3, 4, 6, 7, 8, 10, 11, 12, 13, 14, 16, 17, 18, 19, 21, 22, 23, 24, 25, 26, 27, 28, 30, 31, 32, 34, 35, 36, 37, 38, 39, 42, 43, 44, 45, 46, 47, 49, 50, 51, 52, 53, 54, 56, 57, 59, 60, 62, 63, 65, 66, 67, 70, 71, 72, 74, 75, 76, 78, 79, 80, 81, 83, 85, 87, 88, 89, 90, 91, 92, 93, 95, 96, 97, 98, 99, 100}\n"
     ]
    }
   ],
   "source": [
    "#A set is a collection which is unordered and unindexed\n",
    "set1 = set(sample_list_1)\n",
    "len(set1)\n",
    "print(set1)\n"
   ]
  },
  {
   "cell_type": "markdown",
   "metadata": {},
   "source": [
    "#### 3 - Create another list named `sample_list_2` with 80 random values.\n",
    "\n",
    "Requirements:\n",
    "\n",
    "* Each value is an integer falling between 0 and 100.\n",
    "* The values in the list don't have to be unique.\n",
    "\n",
    "*Hint: Use a FOR loop.*"
   ]
  },
  {
   "cell_type": "code",
   "execution_count": 228,
   "metadata": {},
   "outputs": [
    {
     "name": "stdout",
     "output_type": "stream",
     "text": [
      "[96, 55, 10, 9, 94, 22, 41, 55, 34, 77, 8, 42, 63, 15, 82, 86, 26, 47, 62, 45, 39, 86, 65, 98, 38, 26, 41, 47, 10, 39, 99, 65, 53, 67, 73, 57, 20, 62, 14, 28, 41, 98, 55, 67, 86, 52, 60, 94, 74, 85, 35, 95, 52, 79, 52, 96, 42, 1, 44, 17, 30, 25, 40, 32, 8, 28, 84, 29, 19, 51, 15, 49, 25, 42, 28, 85, 48, 83, 75, 46]\n"
     ]
    },
    {
     "data": {
      "text/plain": [
       "80"
      ]
     },
     "execution_count": 228,
     "metadata": {},
     "output_type": "execute_result"
    }
   ],
   "source": [
    "#[random.randrange(x) for i in range(x)]\n",
    "sample_list_2 = [random.choice(range(101)) for i in range(80)]\n",
    "print(sample_list_2)\n",
    "len(sample_list_2)\n",
    "\n"
   ]
  },
  {
   "cell_type": "markdown",
   "metadata": {},
   "source": [
    "#### 4 - Convert `sample_list_2` to a set called `set2`. Print the length of the set. Is its length still 80?"
   ]
  },
  {
   "cell_type": "code",
   "execution_count": 229,
   "metadata": {},
   "outputs": [
    {
     "data": {
      "text/plain": [
       "54"
      ]
     },
     "execution_count": 229,
     "metadata": {},
     "output_type": "execute_result"
    }
   ],
   "source": [
    "set2 = set(sample_list_2)\n",
    "len(set2)"
   ]
  },
  {
   "cell_type": "markdown",
   "metadata": {},
   "source": [
    "#### 5 - Identify the elements present in `set1` but not in `set2`. Assign the elements to a new set named `set3`."
   ]
  },
  {
   "cell_type": "code",
   "execution_count": 230,
   "metadata": {},
   "outputs": [
    {
     "name": "stdout",
     "output_type": "stream",
     "text": [
      "{0, 2, 3, 4, 6, 7, 11, 12, 13, 16, 18, 21, 23, 24, 27, 31, 36, 37, 43, 50, 54, 56, 59, 66, 70, 71, 72, 76, 78, 80, 81, 87, 88, 89, 90, 91, 92, 93, 97, 100}\n"
     ]
    },
    {
     "data": {
      "text/plain": [
       "40"
      ]
     },
     "execution_count": 230,
     "metadata": {},
     "output_type": "execute_result"
    }
   ],
   "source": [
    "#set1.difference(set2)- o que está no set1 e não no set2\n",
    "\n",
    "set3 = set(set1.difference(set2))\n",
    "print(set3)\n",
    "len(set3)"
   ]
  },
  {
   "cell_type": "markdown",
   "metadata": {},
   "source": [
    "#### 6 - Identify the elements present in `set2` but not in `set1`. Assign the elements to a new set named `set4`."
   ]
  },
  {
   "cell_type": "code",
   "execution_count": 231,
   "metadata": {},
   "outputs": [
    {
     "name": "stdout",
     "output_type": "stream",
     "text": [
      "{40, 9, 41, 73, 77, 15, 48, 82, 20, 84, 86, 55, 29, 94}\n"
     ]
    }
   ],
   "source": [
    "#set2.difference(set1)- o que está no set2 e não no set1\n",
    "\n",
    "set4 = set(set2.difference(set1))\n",
    "print(set4)\n"
   ]
  },
  {
   "cell_type": "markdown",
   "metadata": {},
   "source": [
    "#### 7 - Now Identify the elements shared between `set1` and `set2`. Assign the elements to a new set named `set5`."
   ]
  },
  {
   "cell_type": "code",
   "execution_count": 232,
   "metadata": {},
   "outputs": [
    {
     "name": "stdout",
     "output_type": "stream",
     "text": [
      "{1, 8, 10, 14, 17, 19, 22, 25, 26, 28, 30, 32, 34, 35, 38, 39, 42, 44, 45, 46, 47, 49, 51, 52, 53, 57, 60, 62, 63, 65, 67, 74, 75, 79, 83, 85, 95, 96, 98, 99}\n"
     ]
    },
    {
     "data": {
      "text/plain": [
       "40"
      ]
     },
     "execution_count": 232,
     "metadata": {},
     "output_type": "execute_result"
    }
   ],
   "source": [
    "#web_devs.intersection(data_class)\n",
    "\n",
    "set5 = set(set1.intersection(set2))\n",
    "print(set5)\n",
    "len(set5)\n"
   ]
  },
  {
   "cell_type": "markdown",
   "metadata": {},
   "source": [
    "#### 8 - Create an empty set called `set6`."
   ]
  },
  {
   "cell_type": "code",
   "execution_count": 233,
   "metadata": {},
   "outputs": [],
   "source": [
    "#We can define an empty set as follows: Setname = set()\n",
    "\n",
    "set6 = set()\n",
    "\n"
   ]
  },
  {
   "cell_type": "markdown",
   "metadata": {},
   "source": [
    "#### 9 - Add `set3` and `set5` to `set6` using the Python Set `update` method."
   ]
  },
  {
   "cell_type": "code",
   "execution_count": 234,
   "metadata": {},
   "outputs": [
    {
     "name": "stdout",
     "output_type": "stream",
     "text": [
      "{0, 1, 2, 3, 4, 6, 7, 8, 10, 11, 12, 13, 14, 16, 17, 18, 19, 21, 22, 23, 24, 25, 26, 27, 28, 30, 31, 32, 34, 35, 36, 37, 38, 39, 42, 43, 44, 45, 46, 47, 49, 50, 51, 52, 53, 54, 56, 57, 59, 60, 62, 63, 65, 66, 67, 70, 71, 72, 74, 75, 76, 78, 79, 80, 81, 83, 85, 87, 88, 89, 90, 91, 92, 93, 95, 96, 97, 98, 99, 100}\n"
     ]
    },
    {
     "data": {
      "text/plain": [
       "80"
      ]
     },
     "execution_count": 234,
     "metadata": {},
     "output_type": "execute_result"
    }
   ],
   "source": [
    "#set1.update(set2) -  set1 is the set in which set2 will be added.\n",
    "\n",
    "#len(set3)\n",
    "\n",
    "set5.update(set3)\n",
    "#len(set5)\n",
    "\n",
    "for i in set5:\n",
    "    set6.add(i)\n",
    "\n",
    "print(set6)\n",
    "len(set6)\n"
   ]
  },
  {
   "cell_type": "markdown",
   "metadata": {},
   "source": [
    "#### 10 - Check if `set1` and `set6` are equal."
   ]
  },
  {
   "cell_type": "code",
   "execution_count": 235,
   "metadata": {},
   "outputs": [
    {
     "name": "stdout",
     "output_type": "stream",
     "text": [
      "The sets are equal\n"
     ]
    }
   ],
   "source": [
    "#if(set1==set2) compares for equality of each element in both the sets\n",
    "if(set1==set6):\n",
    "    print(\"The sets are equal\")"
   ]
  },
  {
   "cell_type": "markdown",
   "metadata": {},
   "source": [
    "#### 11 - Check if `set1` contains `set2` using the Python Set `issubset` method. Then check if `set1` contains `set3`.*"
   ]
  },
  {
   "cell_type": "code",
   "execution_count": 236,
   "metadata": {},
   "outputs": [
    {
     "name": "stdout",
     "output_type": "stream",
     "text": [
      "False\n",
      "True\n"
     ]
    }
   ],
   "source": [
    "# A.issubset(B) - The above code checks if A is a subset of B\n",
    "\n",
    "print(set2.issubset(set1))\n",
    "print(set3.issubset(set1))\n"
   ]
  },
  {
   "cell_type": "markdown",
   "metadata": {},
   "source": [
    "#### 12 -Using the Python Set `union` method, aggregate `set3`, `set4`, and `set5`. Then aggregate `set1` and `set2`. \n",
    "\n",
    "#### Check if the aggregated values are equal."
   ]
  },
  {
   "cell_type": "code",
   "execution_count": 237,
   "metadata": {},
   "outputs": [
    {
     "name": "stdout",
     "output_type": "stream",
     "text": [
      "The sets are equal\n"
     ]
    }
   ],
   "source": [
    "#result = x.union(y, z) - Unify more than 2 sets:\n",
    "\n",
    "set7= set3.union(set4,set5)\n",
    "\n",
    "set1_2= set1.union(set2)\n",
    "\n",
    "if(set7==set1_2):\n",
    "    print(\"The sets are equal\")\n"
   ]
  },
  {
   "cell_type": "markdown",
   "metadata": {},
   "source": [
    "#### 13 -Using the `pop` method, remove the first element from `set1`."
   ]
  },
  {
   "cell_type": "code",
   "execution_count": 238,
   "metadata": {},
   "outputs": [
    {
     "name": "stdout",
     "output_type": "stream",
     "text": [
      "{1, 2, 3, 4, 6, 7, 8, 10, 11, 12, 13, 14, 16, 17, 18, 19, 21, 22, 23, 24, 25, 26, 27, 28, 30, 31, 32, 34, 35, 36, 37, 38, 39, 42, 43, 44, 45, 46, 47, 49, 50, 51, 52, 53, 54, 56, 57, 59, 60, 62, 63, 65, 66, 67, 70, 71, 72, 74, 75, 76, 78, 79, 80, 81, 83, 85, 87, 88, 89, 90, 91, 92, 93, 95, 96, 97, 98, 99, 100}\n"
     ]
    }
   ],
   "source": [
    "# print(set1)\n",
    "\n",
    "list1 = list(set1)\n",
    "list1.pop(0)\n",
    "\n",
    "set1 = set(list1)\n",
    "\n",
    "print(set1)\n"
   ]
  },
  {
   "cell_type": "markdown",
   "metadata": {},
   "source": [
    "#### 14 -Remove every element in the following list from `set1` if they are present in the set. Print the remaining elements.\n",
    "\n",
    "```\n",
    "list_to_remove = [1, 9, 11, 19, 21, 29, 31, 39, 41, 49, 51, 59, 61, 69, 71, 79, 81, 89, 91, 99]\n",
    "```"
   ]
  },
  {
   "cell_type": "code",
   "execution_count": 239,
   "metadata": {},
   "outputs": [
    {
     "name": "stdout",
     "output_type": "stream",
     "text": [
      "{2, 3, 4, 6, 7, 8, 10, 12, 13, 14, 16, 17, 18, 22, 23, 24, 25, 26, 27, 28, 30, 32, 34, 35, 36, 37, 38, 42, 43, 44, 45, 46, 47, 50, 52, 53, 54, 56, 57, 60, 62, 63, 65, 66, 67, 70, 72, 74, 75, 76, 78, 80, 83, 85, 87, 88, 90, 92, 93, 95, 96, 97, 98, 100}\n"
     ]
    }
   ],
   "source": [
    "# Your code here\n",
    "list_to_remove = [1, 9, 11, 19, 21, 29, 31, 39, 41, 49, 51, 59, 61, 69, 71, 79, 81, 89, 91, 99]\n",
    "\n",
    "for l in list_to_remove:\n",
    "    if l in set1:\n",
    "        set1.remove(l)\n",
    "\n",
    "print(set1)\n",
    "        \n"
   ]
  },
  {
   "cell_type": "markdown",
   "metadata": {},
   "source": [
    "#### 15 -The objective of this lab is to provide you a overview of manipulating sets in Python and how they can be integrated within a real usecase\n",
    "#### For the exercises below it's strongly advised to quickly check this link: https://docs.python.org/2/library/sets.html#sets.Set\n",
    "#### Imagine you need to create the grocery list for your family! Below you will see a list of items each family member wants. There will be repetitions because this family has the habbit of each time they notice something is missing to write it down. The problem is that they don't really talk to each other and therefore some items in the list are repeated. With the collection of questions below you will see how they solve repetion and create a grocery list with unique elements.\n",
    "\n"
   ]
  },
  {
   "cell_type": "code",
   "execution_count": 240,
   "metadata": {},
   "outputs": [],
   "source": [
    "father_list = ['garlic', 'watermelon', 'toilet paper', 'yogurt', 'onions', 'gums', 'flour', 'cucumber', 'watermelon', 'yogurt', 'garlic']\n",
    "\n",
    "mother_list = []\n",
    "\n",
    "Jo_list = ['blueberries', 'sugar', 'watermelon', 'gums', 'tomatoes', 'yogurt', 'juice', 'milk', 'onions', 'garlic', 'cucumber', 'sugar', 'blueberries', 'gums', 'yogurt']\n",
    "\n",
    "Carlos_list = ['tomatoes', 'water', 'onions', 'blueberries', 'garlic', 'flour', 'cherries', 'tomatoes', 'onions', 'water', 'tomatoes', 'toilet paper']\n",
    "\n",
    "Mattia_list = []\n",
    "\n",
    "\n"
   ]
  },
  {
   "cell_type": "markdown",
   "metadata": {},
   "source": [
    "#### 15.1- As you can see there are items repeated in each list. Creat a sequence of iterable elements with dintinct items that each family member wants. You can do it in two different ways. Assign each one (set) to a variable with the name of the family member (ex: father_set)."
   ]
  },
  {
   "cell_type": "code",
   "execution_count": 241,
   "metadata": {},
   "outputs": [
    {
     "name": "stdout",
     "output_type": "stream",
     "text": [
      "{'watermelon', 'blueberries', 'yogurt', 'juice', 'onions', 'cucumber', 'garlic', 'gums', 'sugar', 'milk', 'tomatoes'}\n",
      "{'blueberries', 'onions', 'toilet paper', 'garlic', 'water', 'flour', 'cherries', 'tomatoes'}\n"
     ]
    }
   ],
   "source": [
    "# remover duplicados das 3 listas preenchidas\n",
    "father_list2 = list(dict.fromkeys(father_list))\n",
    "Jo_list2 = list(dict.fromkeys(Jo_list))\n",
    "Carlos_list2 = list(dict.fromkeys(Carlos_list))\n",
    "\n",
    "#converter listas em sets\n",
    "father_set = set(father_list2)\n",
    "Jo_set = set(Jo_list2)\n",
    "Carlos_set = set(Carlos_list2)\n",
    "\n",
    "print(Jo_set)\n",
    "print(Carlos_set)\n",
    "\n",
    "\n",
    "#para cada item que estiver na lista do Carlos e não estiver repetetido na lista da Jo, adicionar à lista da Jo\n",
    "#for i in Carlos_list2:\n",
    "    #if i not in Jo_list2:\n",
    "        #Jo_list2.append(i)\n",
    "\n",
    "#para cada item que estiver na lista do pai e não estiver repetetido na lista da Jo, adicionar à lista da Jo        \n",
    "#for i in father_list2:\n",
    "    #if i not in Jo_list2:\n",
    "        #Jo_list2.append(i)\n",
    "        \n",
    "#neste momento a lista da Jo equivale à lista da famílias (inclui os seus pedidos, do pai e do Carlos)        \n",
    "\n",
    "#family_list = Jo_list2\n",
    "\n",
    "#print(family_list)\n",
    "          "
   ]
  },
  {
   "cell_type": "markdown",
   "metadata": {},
   "source": [
    "#### 15.2- Q: Mattia wants the same items that his brother Carlos and his sister Jo but doesn't want anything they both want.\n",
    "\n",
    "##### Hint: check out the documentation for `x.symmetric_difference(y)`."
   ]
  },
  {
   "cell_type": "code",
   "execution_count": 242,
   "metadata": {},
   "outputs": [
    {
     "name": "stdout",
     "output_type": "stream",
     "text": [
      "{'watermelon', 'yogurt', 'juice', 'toilet paper', 'cucumber', 'flour', 'water', 'cherries', 'gums', 'sugar', 'milk'}\n"
     ]
    }
   ],
   "source": [
    "# s.symmetric_difference_update(t) - return set s with elements from s or t but not both\n",
    "\n",
    "result = Jo_set.symmetric_difference_update(Carlos_set)\n",
    "\n",
    "Mattia_set = Jo_set\n",
    "\n",
    "print(Mattia_set)\n"
   ]
  },
  {
   "cell_type": "markdown",
   "metadata": {},
   "source": [
    "#### 15.3- The line of code below  will  generate a list of random elements from a collection of items, with replacement. Run it and from it create a sequence of unique elements and assign it to the variable mother.\n"
   ]
  },
  {
   "cell_type": "code",
   "execution_count": 243,
   "metadata": {},
   "outputs": [
    {
     "name": "stdout",
     "output_type": "stream",
     "text": [
      "['deodorant', 'oranges', 'sugar', 'juice', 'tomatoes', 'milk', 'watermelon', 'watermelon', 'cherries', 'chocolate']\n"
     ]
    }
   ],
   "source": [
    "import random\n",
    "items = ['milk', 'water', 'chocolate', 'blueberries', 'shampoo', 'flour', 'bread', 'sugar', 'watermelon', 'vinegar', 'tomatoes', 'yogurt', 'juice', 'gums', 'onions', 'garlic', 'cucumber', 'mushrooms', 'toilet paper', 'oranges', 'deodorant', 'cherries']\n",
    "\n",
    "mother_list = random.choices(items,k = 10) # https://docs.python.org/3/library/random.html\n",
    "\n",
    "print(mother_list)"
   ]
  },
  {
   "cell_type": "code",
   "execution_count": 250,
   "metadata": {},
   "outputs": [
    {
     "name": "stdout",
     "output_type": "stream",
     "text": [
      "{'watermelon', 'juice', 'deodorant', 'chocolate', 'sugar', 'oranges', 'milk', 'tomatoes'}\n"
     ]
    }
   ],
   "source": [
    "#random.choice(seq) - Return a random element from the non-empty sequence seq. If seq is empty, raises IndexError.\n",
    "#random.choices(population, weights=None, *, cum_weights=None, k=1) -Return a k sized list of elements chosen from the population with replacement. If the population is empty, raises IndexError.\n",
    "\n",
    "#random.sample(population, k, *, counts=None)\n",
    "mother_setlist= set(mother_list)\n",
    "\n",
    "mother_lst = random.sample(mother_setlist, k=8)\n",
    "mother_set = set(mother_lst)\n",
    "\n",
    "print(mother_set)\n",
    "\n",
    "\n",
    "\n",
    "\n",
    "\n",
    "\n",
    "\n"
   ]
  },
  {
   "cell_type": "markdown",
   "metadata": {},
   "source": [
    "#### 15.4- Before leaving the house to the grocery store the father found a lot of toilet paper, so the mother decided to remove it from the items needed to be bought. Use the `.discard()` method to remove from each set created before the 'toilet paper'. \n",
    "\n",
    "#### Hint: Try to first create a list contaning the variables of each set created before, then loop through them and remove the unecessary item. \n",
    "\n",
    "##### Note: The`.discard()` method will remove and update the set without the need of reassignment.\n",
    "\n"
   ]
  },
  {
   "cell_type": "code",
   "execution_count": 254,
   "metadata": {},
   "outputs": [
    {
     "name": "stdout",
     "output_type": "stream",
     "text": [
      "{'yogurt', 'blueberries', 'deodorant', 'chocolate', 'cucumber', 'cherries', 'sugar', 'gums', 'oranges', 'milk', 'tomatoes', 'watermelon', 'juice', 'onions', 'flour', 'water', 'garlic'}\n"
     ]
    }
   ],
   "source": [
    "mother_set\n",
    "Mattia_set\n",
    "father_set\n",
    "Jo_set\n",
    "Carlos_set\n",
    "\n",
    "#result = x.union(y, z) - Unify more than 2 sets: \n",
    "#If an item is present in more than one set, the result will contain only one appearance of this item.\n",
    "\n",
    "family_set = mother_set.union(Mattia_set,father_set,Jo_set,Carlos_set)\n",
    "\n",
    "\n",
    "family_set.discard('toilet paper')\n",
    "\n",
    "print(family_set)"
   ]
  },
  {
   "cell_type": "markdown",
   "metadata": {},
   "source": [
    "#### 15.5- Create a set with all the groceries needed to be bought for the house (no repetitions)."
   ]
  },
  {
   "cell_type": "code",
   "execution_count": 258,
   "metadata": {},
   "outputs": [
    {
     "name": "stdout",
     "output_type": "stream",
     "text": [
      "{'yogurt', 'blueberries', 'deodorant', 'chocolate', 'cucumber', 'cherries', 'sugar', 'gums', 'oranges', 'milk', 'tomatoes', 'watermelon', 'juice', 'onions', 'flour', 'water', 'garlic'}\n"
     ]
    }
   ],
   "source": [
    "# Já foi criada - family_set\n",
    "type(family_set)\n",
    "print(family_set)\n"
   ]
  },
  {
   "cell_type": "markdown",
   "metadata": {},
   "source": [
    "#### 15.6- The Father said that he could only buy five items this time. So he decided to arbitraly pick wich ones to buy this time.\n",
    "\n",
    "##### Hint: use the `.pop()` method."
   ]
  },
  {
   "cell_type": "code",
   "execution_count": 260,
   "metadata": {},
   "outputs": [
    {
     "name": "stdout",
     "output_type": "stream",
     "text": [
      "['yogurt', 'blueberries', 'garlic', 'juice', 'cucumber']\n"
     ]
    }
   ],
   "source": [
    "final_lst = random.sample(family_set, k=5)\n",
    "print(final_lst)\n"
   ]
  },
  {
   "cell_type": "code",
   "execution_count": null,
   "metadata": {},
   "outputs": [],
   "source": []
  }
 ],
 "metadata": {
  "kernelspec": {
   "display_name": "Python 3",
   "language": "python",
   "name": "python3"
  },
  "language_info": {
   "codemirror_mode": {
    "name": "ipython",
    "version": 3
   },
   "file_extension": ".py",
   "mimetype": "text/x-python",
   "name": "python",
   "nbconvert_exporter": "python",
   "pygments_lexer": "ipython3",
   "version": "3.8.3"
  }
 },
 "nbformat": 4,
 "nbformat_minor": 2
}
